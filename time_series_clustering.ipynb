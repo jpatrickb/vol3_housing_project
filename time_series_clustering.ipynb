{
 "cells": [
  {
   "cell_type": "code",
   "execution_count": 2,
   "metadata": {},
   "outputs": [],
   "source": [
    "from tslearn.clustering import TimeSeriesKMeans\n",
    "import pandas as pd\n",
    "import geopandas as gpd\n",
    "import matplotlib.pyplot as plt\n",
    "import plotly.express as px\n",
    "from urllib.request import urlopen\n",
    "import json"
   ]
  },
  {
   "cell_type": "code",
   "execution_count": 7,
   "metadata": {},
   "outputs": [
    {
     "name": "stdout",
     "output_type": "stream",
     "text": [
      "        California          Texas        Florida       New York  \\\n",
      "0    186429.815199  110538.064827  105825.018501  149355.915577   \n",
      "1    187056.461453  110598.134067  106054.245342  149887.769350   \n",
      "2    187902.587345  110627.268589  106332.113966  150399.764377   \n",
      "3    189739.274366  110771.865807  106896.949408  151500.926494   \n",
      "4    191874.146347  110865.509233  107506.063565  152640.235655   \n",
      "..             ...            ...            ...            ...   \n",
      "235  530193.868585  209343.329547  239240.492257  337245.003448   \n",
      "236  532764.367684  209999.544387  239942.596339  337881.137431   \n",
      "237  535794.434245  210878.012737  240873.009505  338598.409573   \n",
      "238  539093.566334  211918.153088  242145.599112  340030.909293   \n",
      "239  542512.733424  213050.724665  243713.960439  341852.920626   \n",
      "\n",
      "      Pennsylvania       Illinois           Ohio        Georgia  \\\n",
      "0     96116.779767  125204.519107  101913.641903  121920.615008   \n",
      "1     96322.366280  125304.858881  101975.920383  122197.475642   \n",
      "2     96515.562377  125521.747803  102070.369000  122516.926576   \n",
      "3     96909.266668  126031.976132  102348.099713  123189.511012   \n",
      "4     97313.699554  126637.377994  102771.569988  123931.344856   \n",
      "..             ...            ...            ...            ...   \n",
      "235  183132.012587  190255.712511  147450.242721  200126.222281   \n",
      "236  183773.937280  189995.806986  147841.973701  200860.926246   \n",
      "237  184582.830234  190065.694438  148377.460519  201802.457383   \n",
      "238  185612.505102  190386.821941  149171.654271  202958.893136   \n",
      "239  186729.199502  191079.119306  150044.320554  204384.449437   \n",
      "\n",
      "     North Carolina       Michigan  ...          Maine   Rhode Island  \\\n",
      "0     126353.992989  112945.628224  ...  103400.802539  127343.482395   \n",
      "1     126546.224256  113007.835979  ...  103744.818906  127922.629657   \n",
      "2     126744.218601  113235.582856  ...  104051.981590  128530.829549   \n",
      "3     127173.703308  113689.253739  ...  104728.678669  129732.533289   \n",
      "4     127652.173136  114358.285887  ...  105366.130828  130929.976949   \n",
      "..              ...            ...  ...            ...            ...   \n",
      "235   202196.020738  164533.318502  ...  227611.323930  285252.149403   \n",
      "236   202959.700750  164562.543691  ...  228636.821567  285835.750320   \n",
      "237   203976.445433  165026.609758  ...  229866.467847  286672.885672   \n",
      "238   205264.613742  165824.357829  ...  231256.479201  288164.387921   \n",
      "239   206683.187828  166641.934605  ...  232646.180138  289792.676968   \n",
      "\n",
      "           Montana       Delaware   South Dakota   North Dakota  \\\n",
      "0    157074.315463  143518.164477  105309.481167  160292.592945   \n",
      "1    157074.315463  143741.445804  105085.733311  160292.592945   \n",
      "2    157074.315463  144019.451153  104772.614741  160292.592945   \n",
      "3    157074.315463  144655.243089  104350.564491  160292.592945   \n",
      "4    157074.315463  145380.392090  104174.979254  160292.592945   \n",
      "..             ...            ...            ...            ...   \n",
      "235  261838.366556  264093.770621  202172.777756  218887.416845   \n",
      "236  263072.395129  263909.465137  202683.608151  219146.687783   \n",
      "237  264209.898505  263709.272280  203586.178339  219564.926781   \n",
      "238  265384.138645  263868.616076  204701.655698  220221.564159   \n",
      "239  266736.278240  264628.690522  205977.725886  221053.384808   \n",
      "\n",
      "            Alaska  District of Columbia        Vermont        Wyoming  \n",
      "0    134532.265866         160456.120672  113739.247678  141674.774201  \n",
      "1    134685.066098         160980.937946  113929.701095  141674.774201  \n",
      "2    134837.786417         161725.599539  114228.801575  141674.774201  \n",
      "3    135016.891655         163322.307225  114816.516379  141674.774201  \n",
      "4    135286.520557         165094.357278  115493.328383  141674.774201  \n",
      "..             ...                   ...            ...            ...  \n",
      "235  304949.626922         567647.700442  258666.773391  245491.087038  \n",
      "236  306010.425337         567920.544318  259434.574329  246674.681743  \n",
      "237  307139.578412         568437.455219  260385.157677  247961.197194  \n",
      "238  308626.930139         569569.973755  261741.475362  249303.160205  \n",
      "239  310085.289458         571050.916840  263412.954858  251005.443911  \n",
      "\n",
      "[240 rows x 51 columns]\n",
      "(51, 240)\n"
     ]
    }
   ],
   "source": [
    "df = pd.read_csv('Data_Files/price_by_state_cleaned.csv')\n",
    "# print(df)\n",
    "\n",
    "split_date = '2020-01-31'  # Choose the date where to split the data\n",
    "train = df[df['Unnamed: 0'] < split_date]\n",
    "train = train.drop(columns=['Unnamed: 0'])\n",
    "test = df[df['Unnamed: 0'] >= split_date]\n",
    "test = test.drop(columns=['Unnamed: 0'])\n",
    "\n",
    "print(train)\n",
    "train = train.values.T\n",
    "print(train.shape)"
   ]
  },
  {
   "cell_type": "code",
   "execution_count": 4,
   "metadata": {},
   "outputs": [
    {
     "name": "stdout",
     "output_type": "stream",
     "text": [
      "[2 3 3 5 3 3 1 3 3 1 4 0 5 0 4 3 1 5 1 3 5 3 3 1 3 1 5 1 0 0 1 0 1 1 1 3 1\n",
      " 3 1 2 0 3 0 3 0 3 3 5 2 0 0]\n"
     ]
    }
   ],
   "source": [
    "km = TimeSeriesKMeans(n_clusters=6, max_iter=1000, random_state=0)\n",
    "pred = km.fit_predict(train)\n",
    "print(pred)"
   ]
  },
  {
   "cell_type": "code",
   "execution_count": 5,
   "metadata": {},
   "outputs": [
    {
     "name": "stdout",
     "output_type": "stream",
     "text": [
      "{0: ['Virginia', 'Arizona', 'Connecticut', 'Utah', 'Nevada', 'New Hampshire', 'Rhode Island', 'Delaware', 'Vermont', 'Wyoming'], 1: ['Ohio', 'Michigan', 'Indiana', 'Missouri', 'Alabama', 'Kentucky', 'Oklahoma', 'Iowa', 'Arkansas', 'Mississippi', 'Kansas', 'Nebraska', 'West Virginia'], 2: ['California', 'Hawaii', 'District of Columbia'], 3: ['Texas', 'Florida', 'Pennsylvania', 'Illinois', 'Georgia', 'North Carolina', 'Tennessee', 'Wisconsin', 'Minnesota', 'South Carolina', 'Louisiana', 'New Mexico', 'Idaho', 'Maine', 'Montana', 'South Dakota', 'North Dakota'], 4: ['New Jersey', 'Massachusetts'], 5: ['New York', 'Washington', 'Maryland', 'Colorado', 'Oregon', 'Alaska']}\n"
     ]
    }
   ],
   "source": [
    "state_names = df.columns.tolist()[1:]\n",
    "\n",
    "plot_df = pd.DataFrame({\n",
    "    \"State\": state_names,\n",
    "    \"Number\": pred\n",
    "})\n",
    "\n",
    "cluster = {}\n",
    "\n",
    "for i in range(6):\n",
    "    state_with_ = plot_df[plot_df[\"Number\"] == i][\"State\"]\n",
    "    cluster[i] = state_with_.values.tolist()\n",
    "print(cluster)"
   ]
  }
 ],
 "metadata": {
  "kernelspec": {
   "display_name": "venv",
   "language": "python",
   "name": "python3"
  },
  "language_info": {
   "codemirror_mode": {
    "name": "ipython",
    "version": 3
   },
   "file_extension": ".py",
   "mimetype": "text/x-python",
   "name": "python",
   "nbconvert_exporter": "python",
   "pygments_lexer": "ipython3",
   "version": "3.10.15"
  }
 },
 "nbformat": 4,
 "nbformat_minor": 2
}
