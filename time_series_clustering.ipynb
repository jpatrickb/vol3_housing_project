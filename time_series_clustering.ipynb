{
 "cells": [
  {
   "cell_type": "code",
   "execution_count": 84,
   "metadata": {},
   "outputs": [],
   "source": [
    "from tslearn.clustering import TimeSeriesKMeans\n",
    "import pandas as pd\n",
    "import geopandas as gpd\n",
    "import matplotlib.pyplot as plt\n",
    "import plotly.express as px\n",
    "from urllib.request import urlopen\n",
    "import json"
   ]
  },
  {
   "cell_type": "code",
   "execution_count": 85,
   "metadata": {},
   "outputs": [
    {
     "name": "stdout",
     "output_type": "stream",
     "text": [
      "(51, 240)\n"
     ]
    }
   ],
   "source": [
    "df = pd.read_csv('Data_Files/price_by_state_cleaned.csv')\n",
    "# print(df)\n",
    "\n",
    "split_date = '2020-01-31'  # Choose the date where to split the data\n",
    "train = df[df['Unnamed: 0'] < split_date]\n",
    "train = train.drop(columns=['Unnamed: 0'])\n",
    "test = df[df['Unnamed: 0'] >= split_date]\n",
    "test = test.drop(columns=['Unnamed: 0'])\n",
    "\n",
    "train = train.values.T\n",
    "print(train.shape)"
   ]
  },
  {
   "cell_type": "code",
   "execution_count": 86,
   "metadata": {},
   "outputs": [
    {
     "name": "stdout",
     "output_type": "stream",
     "text": [
      "[2 3 3 5 3 3 1 3 3 1 4 0 5 0 4 3 1 5 1 3 5 3 3 1 3 1 5 1 0 0 1 0 1 1 1 3 1\n",
      " 3 1 2 0 3 0 3 0 3 3 5 2 0 0]\n"
     ]
    }
   ],
   "source": [
    "km = TimeSeriesKMeans(n_clusters=6, max_iter=1000, random_state=0)\n",
    "pred = km.fit_predict(train)\n",
    "print(pred)"
   ]
  },
  {
   "cell_type": "code",
   "execution_count": 98,
   "metadata": {},
   "outputs": [
    {
     "name": "stdout",
     "output_type": "stream",
     "text": [
      "{0: ['Virginia', 'Arizona', 'Connecticut', 'Utah', 'Nevada', 'New Hampshire', 'Rhode Island', 'Delaware', 'Vermont', 'Wyoming'], 1: ['Ohio', 'Michigan', 'Indiana', 'Missouri', 'Alabama', 'Kentucky', 'Oklahoma', 'Iowa', 'Arkansas', 'Mississippi', 'Kansas', 'Nebraska', 'West Virginia'], 2: ['California', 'Hawaii', 'District of Columbia'], 3: ['Texas', 'Florida', 'Pennsylvania', 'Illinois', 'Georgia', 'North Carolina', 'Tennessee', 'Wisconsin', 'Minnesota', 'South Carolina', 'Louisiana', 'New Mexico', 'Idaho', 'Maine', 'Montana', 'South Dakota', 'North Dakota'], 4: ['New Jersey', 'Massachusetts'], 5: ['New York', 'Washington', 'Maryland', 'Colorado', 'Oregon', 'Alaska']}\n"
     ]
    }
   ],
   "source": [
    "state_names = df.columns.tolist()[1:]\n",
    "\n",
    "plot_df = pd.DataFrame({\n",
    "    \"State\": state_names,\n",
    "    \"Number\": pred\n",
    "})\n",
    "\n",
    "cluster = {}\n",
    "\n",
    "for i in range(6):\n",
    "    state_with_ = plot_df[plot_df[\"Number\"] == i][\"State\"]\n",
    "    cluster[i] = state_with_.values.tolist()\n",
    "print(cluster)"
   ]
  },
  {
   "cell_type": "code",
   "execution_count": null,
   "metadata": {},
   "outputs": [],
   "source": []
  }
 ],
 "metadata": {
  "kernelspec": {
   "display_name": "venv",
   "language": "python",
   "name": "python3"
  },
  "language_info": {
   "codemirror_mode": {
    "name": "ipython",
    "version": 3
   },
   "file_extension": ".py",
   "mimetype": "text/x-python",
   "name": "python",
   "nbconvert_exporter": "python",
   "pygments_lexer": "ipython3",
   "version": "3.10.15"
  }
 },
 "nbformat": 4,
 "nbformat_minor": 2
}
